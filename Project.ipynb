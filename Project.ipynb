{
 "cells": [
  {
   "cell_type": "code",
   "execution_count": 1,
   "metadata": {},
   "outputs": [],
   "source": [
    "import numpy as np\n",
    "import pandas as pd\n",
    "import matplotlib.pyplot as plt"
   ]
  },
  {
   "cell_type": "code",
   "execution_count": 2,
   "metadata": {},
   "outputs": [],
   "source": [
    "df = pd.read_csv(\"LeagueofLegends.csv\")"
   ]
  },
  {
   "cell_type": "code",
   "execution_count": 3,
   "metadata": {},
   "outputs": [
    {
     "name": "stdout",
     "output_type": "stream",
     "text": [
      "     League  Year  Season    Type blueTeamTag  bResult  rResult redTeamTag  \\\n",
      "0     NALCS  2015  Spring  Season         TSM        1        0         C9   \n",
      "1     NALCS  2015  Spring  Season         CST        0        1        DIG   \n",
      "2     NALCS  2015  Spring  Season         WFX        1        0         GV   \n",
      "3     NALCS  2015  Spring  Season         TIP        0        1         TL   \n",
      "4     NALCS  2015  Spring  Season         CLG        1        0         T8   \n",
      "...     ...   ...     ...     ...         ...      ...      ...        ...   \n",
      "7615    TCL  2018  Spring  Season          YC        0        1        SUP   \n",
      "7616    TCL  2018  Spring  Season         GAL        0        1         DP   \n",
      "7617    OPL  2018  Spring  Season         SIN        0        1         DW   \n",
      "7618    OPL  2018  Spring  Season         LGC        1        0        TTC   \n",
      "7619    OPL  2018  Spring  Season         TTC        0        1        LGC   \n",
      "\n",
      "      gamelength                                           golddiff  ...  \\\n",
      "0             40  [0, 0, -14, -65, -268, -431, -488, -789, -494,...  ...   \n",
      "1             38  [0, 0, -26, -18, 147, 237, -152, 18, 88, -242,...  ...   \n",
      "2             40  [0, 0, 10, -60, 34, 37, 589, 1064, 1258, 913, ...  ...   \n",
      "3             41  [0, 0, -15, 25, 228, -6, -243, 175, -346, 16, ...  ...   \n",
      "4             35  [40, 40, 44, -36, 113, 158, -121, -191, 23, 20...  ...   \n",
      "...          ...                                                ...  ...   \n",
      "7615          34  [0, 0, -18, -95, 45, -87, -117, 199, 126, 92, ...  ...   \n",
      "7616          39  [0, 0, -86, -39, -207, -349, -60, -140, 187, -...  ...   \n",
      "7617          24  [0, -8, -6, 116, 103, -92, -470, -958, -1998, ...  ...   \n",
      "7618          35  [0, 0, -97, 33, 351, 284, 299, 263, 403, 623, ...  ...   \n",
      "7619          42  [0, 0, -8, -225, -36, 73, 464, 184, 1171, 1409...  ...   \n",
      "\n",
      "     redMiddleChamp                                      goldredMiddle  \\\n",
      "0              Fizz  [475, 475, 552, 842, 1178, 1378, 1635, 1949, 2...   \n",
      "1              Azir  [475, 475, 552, 786, 1097, 1389, 1660, 1955, 2...   \n",
      "2              Azir  [475, 475, 533, 801, 1006, 1233, 1385, 1720, 1...   \n",
      "3              Lulu  [475, 475, 532, 771, 1046, 1288, 1534, 1776, 2...   \n",
      "4              Lulu  [475, 475, 532, 807, 1042, 1338, 1646, 1951, 2...   \n",
      "...             ...                                                ...   \n",
      "7615         Veigar  [500, 500, 632, 982, 1258, 1667, 2060, 2390, 2...   \n",
      "7616           Ryze  [500, 500, 612, 1000, 1193, 1626, 1979, 2318, ...   \n",
      "7617       Malzahar  [500, 500, 615, 903, 1225, 1617, 1976, 2304, 2...   \n",
      "7618         Veigar  [500, 500, 561, 931, 1223, 1631, 1987, 2315, 2...   \n",
      "7619       Malzahar  [500, 500, 598, 968, 1165, 1477, 1801, 2016, 2...   \n",
      "\n",
      "            redADC redADCChamp  \\\n",
      "0           Sneaky       Sivir   \n",
      "1           CoreJJ       Corki   \n",
      "2              Cop       Corki   \n",
      "3            KEITH      KogMaw   \n",
      "4     Maplestreet8       Corki   \n",
      "...            ...         ...   \n",
      "7615       Zeitnot       Xayah   \n",
      "7616      Ruvelius     Caitlyn   \n",
      "7617          k1ng      Ezreal   \n",
      "7618           Low       Sivir   \n",
      "7619          Raid       Vayne   \n",
      "\n",
      "                                             goldredADC   redSupport  \\\n",
      "0     [475, 475, 532, 762, 1097, 1469, 1726, 2112, 2...  LemonNation   \n",
      "1     [475, 475, 532, 868, 1220, 1445, 1732, 1979, 2...      KiWiKiD   \n",
      "2     [475, 475, 533, 781, 1085, 1398, 1782, 1957, 2...   BunnyFuFuu   \n",
      "3     [475, 475, 532, 766, 1161, 1438, 1776, 1936, 2...      Xpecial   \n",
      "4     [475, 475, 532, 792, 1187, 1488, 1832, 2136, 2...        Dodo8   \n",
      "...                                                 ...          ...   \n",
      "7615  [500, 500, 564, 1027, 1320, 1727, 1963, 2276, ...   SnowFlower   \n",
      "7616  [500, 500, 621, 977, 1420, 1809, 2047, 2413, 2...       Japone   \n",
      "7617  [500, 508, 592, 986, 1400, 1753, 2196, 2538, 3...      Cupcake   \n",
      "7618  [500, 500, 634, 930, 1304, 1691, 2042, 2384, 2...      Tilting   \n",
      "7619  [500, 500, 587, 954, 1327, 1749, 2007, 2471, 2...        Decoy   \n",
      "\n",
      "     redSupportChamp                                     goldredSupport  \\\n",
      "0             Thresh  [515, 515, 577, 722, 911, 1042, 1194, 1370, 14...   \n",
      "1              Annie  [515, 515, 583, 752, 900, 1066, 1236, 1417, 15...   \n",
      "2              Janna  [515, 515, 584, 721, 858, 1002, 1168, 1303, 14...   \n",
      "3              Janna  [515, 515, 583, 721, 870, 1059, 1205, 1342, 15...   \n",
      "4              Annie  [475, 475, 538, 671, 817, 948, 1104, 1240, 136...   \n",
      "...              ...                                                ...   \n",
      "7615           Rakan  [500, 500, 566, 801, 1004, 1234, 1463, 1674, 1...   \n",
      "7616           Braum  [500, 500, 587, 790, 1107, 1335, 1472, 1616, 1...   \n",
      "7617           Taric  [500, 500, 585, 770, 976, 1222, 1446, 1627, 19...   \n",
      "7618           Janna  [500, 500, 592, 788, 1006, 1251, 1490, 1704, 1...   \n",
      "7619           Braum  [500, 500, 585, 793, 998, 1201, 1373, 1619, 18...   \n",
      "\n",
      "                                                redBans  \\\n",
      "0                    ['Tristana', 'Leblanc', 'Nidalee']   \n",
      "1                        ['RekSai', 'Janna', 'Leblanc']   \n",
      "2                          ['Leblanc', 'Zed', 'RekSai']   \n",
      "3                        ['RekSai', 'Rumble', 'LeeSin']   \n",
      "4                         ['Rumble', 'Sivir', 'Rengar']   \n",
      "...                                                 ...   \n",
      "7615     ['Ornn', 'Kalista', 'Ryze', 'Alistar', 'Shen']   \n",
      "7616    ['Zoe', 'KogMaw', 'JarvanIV', 'Ornn', 'Rengar']   \n",
      "7617  ['Azir', 'Kalista', 'Braum', 'Maokai', 'Alistar']   \n",
      "7618   ['Kalista', 'Galio', 'Gnar', 'Jayce', 'Sejuani']   \n",
      "7619   ['KogMaw', 'Illaoi', 'Azir', 'Karma', 'Sejuani']   \n",
      "\n",
      "                                                Address  \n",
      "0     http://matchhistory.na.leagueoflegends.com/en/...  \n",
      "1     http://matchhistory.na.leagueoflegends.com/en/...  \n",
      "2     http://matchhistory.na.leagueoflegends.com/en/...  \n",
      "3     http://matchhistory.na.leagueoflegends.com/en/...  \n",
      "4     http://matchhistory.na.leagueoflegends.com/en/...  \n",
      "...                                                 ...  \n",
      "7615  https://matchhistory.euw.leagueoflegends.com/e...  \n",
      "7616  https://matchhistory.euw.leagueoflegends.com/e...  \n",
      "7617  https://matchhistory.na.leagueoflegends.com/en...  \n",
      "7618  https://matchhistory.na.leagueoflegends.com/en...  \n",
      "7619  https://matchhistory.na.leagueoflegends.com/en...  \n",
      "\n",
      "[7620 rows x 57 columns]\n"
     ]
    }
   ],
   "source": [
    "print(df)"
   ]
  },
  {
   "cell_type": "code",
   "execution_count": 4,
   "metadata": {},
   "outputs": [],
   "source": [
    "df.drop(['League', 'Season', 'Type', 'blueTeamTag', 'goldblueTop', 'goldblueJungle', 'goldblueMiddle', \n",
    "         'goldblueADC', 'goldblueSupport', 'redTop', 'goldredTop', 'redJungle', 'goldredJungle', \n",
    "         'redMiddle', 'goldredMiddle', 'redADC', 'goldredADC', 'redSupport', 'goldredSupport', 'redTeamTag', \n",
    "         'blueTop', 'blueMiddle', 'blueJungle', 'blueADC', 'blueSupport'], axis=1, inplace=True)"
   ]
  },
  {
   "cell_type": "code",
   "execution_count": 5,
   "metadata": {},
   "outputs": [
    {
     "data": {
      "text/plain": [
       "Index(['Year', 'bResult', 'rResult', 'gamelength', 'golddiff', 'goldblue',\n",
       "       'bKills', 'bTowers', 'bInhibs', 'bDragons', 'bBarons', 'bHeralds',\n",
       "       'goldred', 'rKills', 'rTowers', 'rInhibs', 'rDragons', 'rBarons',\n",
       "       'rHeralds', 'blueTopChamp', 'blueJungleChamp', 'blueMiddleChamp',\n",
       "       'blueADCChamp', 'blueSupportChamp', 'blueBans', 'redTopChamp',\n",
       "       'redJungleChamp', 'redMiddleChamp', 'redADCChamp', 'redSupportChamp',\n",
       "       'redBans', 'Address'],\n",
       "      dtype='object')"
      ]
     },
     "execution_count": 5,
     "metadata": {},
     "output_type": "execute_result"
    }
   ],
   "source": [
    "df.columns"
   ]
  },
  {
   "cell_type": "code",
   "execution_count": 6,
   "metadata": {},
   "outputs": [
    {
     "data": {
      "text/plain": [
       "Year                0\n",
       "bResult             0\n",
       "rResult             0\n",
       "gamelength          0\n",
       "golddiff            0\n",
       "goldblue            0\n",
       "bKills              0\n",
       "bTowers             0\n",
       "bInhibs             0\n",
       "bDragons            0\n",
       "bBarons             0\n",
       "bHeralds            0\n",
       "goldred             0\n",
       "rKills              0\n",
       "rTowers             0\n",
       "rInhibs             0\n",
       "rDragons            0\n",
       "rBarons             0\n",
       "rHeralds            0\n",
       "blueTopChamp        0\n",
       "blueJungleChamp     0\n",
       "blueMiddleChamp     0\n",
       "blueADCChamp        0\n",
       "blueSupportChamp    0\n",
       "blueBans            0\n",
       "redTopChamp         0\n",
       "redJungleChamp      0\n",
       "redMiddleChamp      0\n",
       "redADCChamp         0\n",
       "redSupportChamp     0\n",
       "redBans             0\n",
       "Address             0\n",
       "dtype: int64"
      ]
     },
     "execution_count": 6,
     "metadata": {},
     "output_type": "execute_result"
    }
   ],
   "source": [
    "df.isnull().sum()"
   ]
  },
  {
   "cell_type": "code",
   "execution_count": 7,
   "metadata": {},
   "outputs": [
    {
     "data": {
      "text/plain": [
       "<AxesSubplot:title={'center':'gamelength'}, ylabel='Frequency'>"
      ]
     },
     "execution_count": 7,
     "metadata": {},
     "output_type": "execute_result"
    },
    {
     "data": {
      "image/png": "[encoded data removed]",
      "text/plain": [
       "<Figure size 1152x576 with 1 Axes>"
      ]
     },
     "metadata": {
      "needs_background": "light"
     },
     "output_type": "display_data"
    }
   ],
   "source": [
    "plt.figure('gamelength', figsize=(16,8))\n",
    "plt.title('gamelength')\n",
    "df['gamelength'].plot(kind='hist')"
   ]
  },
  {
   "cell_type": "code",
   "execution_count": 8,
   "metadata": {},
   "outputs": [
    {
     "data": {
      "text/plain": [
       "count    7620.000000\n",
       "mean       37.012598\n",
       "std         7.983238\n",
       "min        17.000000\n",
       "25%        31.000000\n",
       "50%        36.000000\n",
       "75%        41.000000\n",
       "max        95.000000\n",
       "Name: gamelength, dtype: float64"
      ]
     },
     "execution_count": 8,
     "metadata": {},
     "output_type": "execute_result"
    }
   ],
   "source": [
    "df.describe()['gamelength']"
   ]
  },
  {
   "cell_type": "code",
   "execution_count": 9,
   "metadata": {},
   "outputs": [],
   "source": [
    "def find_outliers(df, col):\n",
    "    q1 = df[col].quantile(0.25)\n",
    "    q3 = df[col].quantile(0.75)\n",
    "    IQR = q3-q1\n",
    "    outliers = df[((df[col] < (q1 - 1.5*IQR)) | (df[col] > (q3 + 1.5*IQR)))]\n",
    "    return outliers"
   ]
  },
  {
   "cell_type": "code",
   "execution_count": 10,
   "metadata": {},
   "outputs": [
    {
     "name": "stdout",
     "output_type": "stream",
     "text": [
      "Int64Index([ 165,  175,  181,  243,  248,  298,  314,  318,  338,  345,\n",
      "            ...\n",
      "            7240, 7261, 7297, 7430, 7438, 7439, 7447, 7515, 7551, 7570],\n",
      "           dtype='int64', length=164)\n"
     ]
    }
   ],
   "source": [
    "outliers = find_outliers(df, 'gamelength').index\n",
    "print(outliers)"
   ]
  },
  {
   "cell_type": "code",
   "execution_count": 11,
   "metadata": {},
   "outputs": [],
   "source": [
    "df = df.drop(outliers)"
   ]
  },
  {
   "cell_type": "code",
   "execution_count": 12,
   "metadata": {},
   "outputs": [
    {
     "name": "stdout",
     "output_type": "stream",
     "text": [
      "      Year  bResult  rResult  gamelength  \\\n",
      "0     2015        1        0          40   \n",
      "1     2015        0        1          38   \n",
      "2     2015        1        0          40   \n",
      "3     2015        0        1          41   \n",
      "4     2015        1        0          35   \n",
      "...    ...      ...      ...         ...   \n",
      "7615  2018        0        1          34   \n",
      "7616  2018        0        1          39   \n",
      "7617  2018        0        1          24   \n",
      "7618  2018        1        0          35   \n",
      "7619  2018        0        1          42   \n",
      "\n",
      "                                               golddiff  \\\n",
      "0     [0, 0, -14, -65, -268, -431, -488, -789, -494,...   \n",
      "1     [0, 0, -26, -18, 147, 237, -152, 18, 88, -242,...   \n",
      "2     [0, 0, 10, -60, 34, 37, 589, 1064, 1258, 913, ...   \n",
      "3     [0, 0, -15, 25, 228, -6, -243, 175, -346, 16, ...   \n",
      "4     [40, 40, 44, -36, 113, 158, -121, -191, 23, 20...   \n",
      "...                                                 ...   \n",
      "7615  [0, 0, -18, -95, 45, -87, -117, 199, 126, 92, ...   \n",
      "7616  [0, 0, -86, -39, -207, -349, -60, -140, 187, -...   \n",
      "7617  [0, -8, -6, 116, 103, -92, -470, -958, -1998, ...   \n",
      "7618  [0, 0, -97, 33, 351, 284, 299, 263, 403, 623, ...   \n",
      "7619  [0, 0, -8, -225, -36, 73, 464, 184, 1171, 1409...   \n",
      "\n",
      "                                               goldblue  \\\n",
      "0     [2415, 2415, 2711, 3887, 5068, 6171, 7412, 866...   \n",
      "1     [2415, 2415, 2705, 4108, 5511, 6797, 7637, 895...   \n",
      "2     [2415, 2415, 2726, 3794, 4933, 6236, 8109, 965...   \n",
      "3     [2415, 2415, 2705, 3847, 5398, 6473, 7720, 930...   \n",
      "4     [2415, 2415, 2710, 3950, 5404, 6666, 7887, 913...   \n",
      "...                                                 ...   \n",
      "7615  [2500, 2500, 2963, 4357, 6095, 7575, 9012, 106...   \n",
      "7616  [2500, 2500, 2936, 4752, 6438, 7974, 9464, 109...   \n",
      "7617  [2500, 2500, 2991, 4529, 6004, 7573, 8747, 103...   \n",
      "7618  [2500, 2500, 2974, 4629, 6405, 8090, 9580, 111...   \n",
      "7619  [2500, 2500, 3064, 4510, 6015, 7714, 9357, 107...   \n",
      "\n",
      "                                                 bKills  \\\n",
      "0     [[10.82, 'C9 Hai', 'TSM Bjergsen', [], 9229, 8...   \n",
      "1     [[11.104, 'DIG Shiphtur', 'CST Jesiz', ['CST I...   \n",
      "2     [[5.255, 'GV Keane', 'WFX Pobelter', ['WFX Sho...   \n",
      "3     [[8.274, 'TL Quas', 'TIP Rhux', ['TIP Apollo']...   \n",
      "4     [[11.438, 'T8 Dodo8', 'CLG Doublelift', ['CLG ...   \n",
      "...                                                 ...   \n",
      "7615  [[9.158, 'SUP SnowFlower', 'YC CoCo', ['YC Moj...   \n",
      "7616  [[17.174, 'DP Marshall', 'GAL Rare', ['GAL Vik...   \n",
      "7617  [[13.534, 'DW Cupcake', 'SIN Bdoink', ['SIN Ju...   \n",
      "7618  [[3.055, 'TTC Swathe', 'LGC Sybol', [], 9751, ...   \n",
      "7619  [[7.68, 'LGC Sybol', 'TTC Swathe', ['TTC Papry...   \n",
      "\n",
      "                                                bTowers  \\\n",
      "0     [[27.542, 'MID_LANE', 'BASE_TURRET'], [39.269,...   \n",
      "1     [[23.239, 'BOT_LANE', 'OUTER_TURRET'], [33.018...   \n",
      "2     [[15.045, 'BOT_LANE', 'OUTER_TURRET'], [39.566...   \n",
      "3     [[19.941, 'BOT_LANE', 'OUTER_TURRET'], [38.77,...   \n",
      "4     [[22.594, 'MID_LANE', 'OUTER_TURRET'], [34.213...   \n",
      "...                                                 ...   \n",
      "7615  [[12.448, 'BOT_LANE', 'OUTER_TURRET'], [27.646...   \n",
      "7616  [[23.085, 'BOT_LANE', 'INNER_TURRET'], [17.368...   \n",
      "7617                                                 []   \n",
      "7618  [[22.043, 'TOP_LANE', 'OUTER_TURRET'], [24.727...   \n",
      "7619  [[18.042, 'BOT_LANE', 'OUTER_TURRET'], [13.644...   \n",
      "\n",
      "                                                bInhibs  \\\n",
      "0          [[36.686, 'MID_LANE'], [29.274, 'MID_LANE']]   \n",
      "1                                                    []   \n",
      "2     [[37.511, 'TOP_LANE'], [37.38, 'BOT_LANE'], [3...   \n",
      "3                                                    []   \n",
      "4                                [[34.069, 'BOT_LANE']]   \n",
      "...                                                 ...   \n",
      "7615                                                 []   \n",
      "7616                                                 []   \n",
      "7617                                                 []   \n",
      "7618                             [[33.943, 'MID_LANE']]   \n",
      "7619                                                 []   \n",
      "\n",
      "                                               bDragons  ... blueADCChamp  \\\n",
      "0                                      [[37.267, None]]  ...         Jinx   \n",
      "1      [[32.545, None], [26.177, None], [19.119, None]]  ...      Caitlyn   \n",
      "2     [[24.577, None], [37.867, None], [30.87, None]...  ...        Sivir   \n",
      "3                                                    []  ...        Sivir   \n",
      "4                      [[14.589, None], [30.307, None]]  ...     Tristana   \n",
      "...                                                 ...  ...          ...   \n",
      "7615                                                 []  ...     Tristana   \n",
      "7616  [[18.322, 'WATER_DRAGON'], [25.473, 'AIR_DRAGO...  ...      Kalista   \n",
      "7617                                                 []  ...        Varus   \n",
      "7618  [[12.083, 'AIR_DRAGON'], [18.238, 'FIRE_DRAGON...  ...       Ezreal   \n",
      "7619                          [[22.787, 'FIRE_DRAGON']]  ...       Ezreal   \n",
      "\n",
      "     blueSupportChamp                                           blueBans  \\\n",
      "0               Janna                ['Rumble', 'Kassadin', 'Lissandra']   \n",
      "1               Leona                 ['Kassadin', 'Sivir', 'Lissandra']   \n",
      "2               Annie              ['JarvanIV', 'Lissandra', 'Kassadin']   \n",
      "3              Thresh                 ['Annie', 'Lissandra', 'Kassadin']   \n",
      "4               Janna                 ['Irelia', 'Pantheon', 'Kassadin']   \n",
      "...               ...                                                ...   \n",
      "7615            Braum  ['Ezreal', 'Sejuani', 'Azir', 'Cassiopeia', 'C...   \n",
      "7616        TahmKench    ['Gangplank', 'Sejuani', 'Azir', 'Gnar', 'Zac']   \n",
      "7617            Janna  ['TahmKench', 'KogMaw', 'Shen', 'Sejuani', 'Sh...   \n",
      "7618            Braum   ['KogMaw', 'Illaoi', 'Urgot', 'Xerath', 'Karma']   \n",
      "7619             Shen    ['Kalista', 'Gnar', 'Ryze', 'Orianna', 'Sivir']   \n",
      "\n",
      "     redTopChamp redJungleChamp redMiddleChamp redADCChamp redSupportChamp  \\\n",
      "0           Gnar          Elise           Fizz       Sivir          Thresh   \n",
      "1         Irelia       JarvanIV           Azir       Corki           Annie   \n",
      "2           Sion         LeeSin           Azir       Corki           Janna   \n",
      "3           Gnar           Nunu           Lulu      KogMaw           Janna   \n",
      "4           Sion         RekSai           Lulu       Corki           Annie   \n",
      "...          ...            ...            ...         ...             ...   \n",
      "7615     Chogath        XinZhao         Veigar       Xayah           Rakan   \n",
      "7616     Chogath          Ivern           Ryze     Caitlyn           Braum   \n",
      "7617   Gangplank        Evelynn       Malzahar      Ezreal           Taric   \n",
      "7618   Gangplank       JarvanIV         Veigar       Sivir           Janna   \n",
      "7619        Ornn       JarvanIV       Malzahar       Vayne           Braum   \n",
      "\n",
      "                                                redBans  \\\n",
      "0                    ['Tristana', 'Leblanc', 'Nidalee']   \n",
      "1                        ['RekSai', 'Janna', 'Leblanc']   \n",
      "2                          ['Leblanc', 'Zed', 'RekSai']   \n",
      "3                        ['RekSai', 'Rumble', 'LeeSin']   \n",
      "4                         ['Rumble', 'Sivir', 'Rengar']   \n",
      "...                                                 ...   \n",
      "7615     ['Ornn', 'Kalista', 'Ryze', 'Alistar', 'Shen']   \n",
      "7616    ['Zoe', 'KogMaw', 'JarvanIV', 'Ornn', 'Rengar']   \n",
      "7617  ['Azir', 'Kalista', 'Braum', 'Maokai', 'Alistar']   \n",
      "7618   ['Kalista', 'Galio', 'Gnar', 'Jayce', 'Sejuani']   \n",
      "7619   ['KogMaw', 'Illaoi', 'Azir', 'Karma', 'Sejuani']   \n",
      "\n",
      "                                                Address  \n",
      "0     http://matchhistory.na.leagueoflegends.com/en/...  \n",
      "1     http://matchhistory.na.leagueoflegends.com/en/...  \n",
      "2     http://matchhistory.na.leagueoflegends.com/en/...  \n",
      "3     http://matchhistory.na.leagueoflegends.com/en/...  \n",
      "4     http://matchhistory.na.leagueoflegends.com/en/...  \n",
      "...                                                 ...  \n",
      "7615  https://matchhistory.euw.leagueoflegends.com/e...  \n",
      "7616  https://matchhistory.euw.leagueoflegends.com/e...  \n",
      "7617  https://matchhistory.na.leagueoflegends.com/en...  \n",
      "7618  https://matchhistory.na.leagueoflegends.com/en...  \n",
      "7619  https://matchhistory.na.leagueoflegends.com/en...  \n",
      "\n",
      "[7456 rows x 32 columns]\n"
     ]
    }
   ],
   "source": [
    "print(df)"
   ]
  },
  {
   "cell_type": "code",
   "execution_count": 13,
   "metadata": {},
   "outputs": [
    {
     "data": {
      "text/html": [
       "<div>\n",
       "<style scoped>\n",
       "    .dataframe tbody tr th:only-of-type {\n",
       "        vertical-align: middle;\n",
       "    }\n",
       "\n",
       "    .dataframe tbody tr th {\n",
       "        vertical-align: top;\n",
       "    }\n",
       "\n",
       "    .dataframe thead th {\n",
       "        text-align: right;\n",
       "    }\n",
       "</style>\n",
       "<table border=\"1\" class=\"dataframe\">\n",
       "  <thead>\n",
       "    <tr style=\"text-align: right;\">\n",
       "      <th></th>\n",
       "      <th>Year</th>\n",
       "      <th>bResult</th>\n",
       "      <th>rResult</th>\n",
       "      <th>gamelength</th>\n",
       "    </tr>\n",
       "  </thead>\n",
       "  <tbody>\n",
       "    <tr>\n",
       "      <th>count</th>\n",
       "      <td>7456.000000</td>\n",
       "      <td>7456.000000</td>\n",
       "      <td>7456.000000</td>\n",
       "      <td>7456.000000</td>\n",
       "    </tr>\n",
       "    <tr>\n",
       "      <th>mean</th>\n",
       "      <td>2016.282591</td>\n",
       "      <td>0.543723</td>\n",
       "      <td>0.456277</td>\n",
       "      <td>36.458423</td>\n",
       "    </tr>\n",
       "    <tr>\n",
       "      <th>std</th>\n",
       "      <td>0.847736</td>\n",
       "      <td>0.498118</td>\n",
       "      <td>0.498118</td>\n",
       "      <td>7.078681</td>\n",
       "    </tr>\n",
       "    <tr>\n",
       "      <th>min</th>\n",
       "      <td>2014.000000</td>\n",
       "      <td>0.000000</td>\n",
       "      <td>0.000000</td>\n",
       "      <td>17.000000</td>\n",
       "    </tr>\n",
       "    <tr>\n",
       "      <th>25%</th>\n",
       "      <td>2016.000000</td>\n",
       "      <td>0.000000</td>\n",
       "      <td>0.000000</td>\n",
       "      <td>31.000000</td>\n",
       "    </tr>\n",
       "    <tr>\n",
       "      <th>50%</th>\n",
       "      <td>2016.000000</td>\n",
       "      <td>1.000000</td>\n",
       "      <td>0.000000</td>\n",
       "      <td>36.000000</td>\n",
       "    </tr>\n",
       "    <tr>\n",
       "      <th>75%</th>\n",
       "      <td>2017.000000</td>\n",
       "      <td>1.000000</td>\n",
       "      <td>1.000000</td>\n",
       "      <td>41.000000</td>\n",
       "    </tr>\n",
       "    <tr>\n",
       "      <th>max</th>\n",
       "      <td>2018.000000</td>\n",
       "      <td>1.000000</td>\n",
       "      <td>1.000000</td>\n",
       "      <td>56.000000</td>\n",
       "    </tr>\n",
       "  </tbody>\n",
       "</table>\n",
       "</div>"
      ],
      "text/plain": [
       "              Year      bResult      rResult   gamelength\n",
       "count  7456.000000  7456.000000  7456.000000  7456.000000\n",
       "mean   2016.282591     0.543723     0.456277    36.458423\n",
       "std       0.847736     0.498118     0.498118     7.078681\n",
       "min    2014.000000     0.000000     0.000000    17.000000\n",
       "25%    2016.000000     0.000000     0.000000    31.000000\n",
       "50%    2016.000000     1.000000     0.000000    36.000000\n",
       "75%    2017.000000     1.000000     1.000000    41.000000\n",
       "max    2018.000000     1.000000     1.000000    56.000000"
      ]
     },
     "execution_count": 13,
     "metadata": {},
     "output_type": "execute_result"
    }
   ],
   "source": [
    "df.describe()"
   ]
  },
  {
   "cell_type": "code",
   "execution_count": 14,
   "metadata": {},
   "outputs": [],
   "source": [
    "killdf = pd.read_csv(\"kills.csv\")"
   ]
  },
  {
   "cell_type": "code",
   "execution_count": 15,
   "metadata": {},
   "outputs": [],
   "source": [
    "kills = killdf.groupby([\"Address\", \"Team\"]).size().reset_index(name = \"Kills\")"
   ]
  },
  {
   "cell_type": "code",
   "execution_count": 16,
   "metadata": {},
   "outputs": [
    {
     "data": {
      "text/html": [
       "<div>\n",
       "<style scoped>\n",
       "    .dataframe tbody tr th:only-of-type {\n",
       "        vertical-align: middle;\n",
       "    }\n",
       "\n",
       "    .dataframe tbody tr th {\n",
       "        vertical-align: top;\n",
       "    }\n",
       "\n",
       "    .dataframe thead th {\n",
       "        text-align: right;\n",
       "    }\n",
       "</style>\n",
       "<table border=\"1\" class=\"dataframe\">\n",
       "  <thead>\n",
       "    <tr style=\"text-align: right;\">\n",
       "      <th></th>\n",
       "      <th>Address</th>\n",
       "      <th>Team</th>\n",
       "      <th>Kills</th>\n",
       "    </tr>\n",
       "  </thead>\n",
       "  <tbody>\n",
       "    <tr>\n",
       "      <th>0</th>\n",
       "      <td>http://matchhistory.br.leagueoflegends.com/pt/...</td>\n",
       "      <td>bKills</td>\n",
       "      <td>6</td>\n",
       "    </tr>\n",
       "    <tr>\n",
       "      <th>1</th>\n",
       "      <td>http://matchhistory.br.leagueoflegends.com/pt/...</td>\n",
       "      <td>rKills</td>\n",
       "      <td>1</td>\n",
       "    </tr>\n",
       "    <tr>\n",
       "      <th>2</th>\n",
       "      <td>http://matchhistory.br.leagueoflegends.com/pt/...</td>\n",
       "      <td>bKills</td>\n",
       "      <td>22</td>\n",
       "    </tr>\n",
       "    <tr>\n",
       "      <th>3</th>\n",
       "      <td>http://matchhistory.br.leagueoflegends.com/pt/...</td>\n",
       "      <td>rKills</td>\n",
       "      <td>19</td>\n",
       "    </tr>\n",
       "    <tr>\n",
       "      <th>4</th>\n",
       "      <td>http://matchhistory.br.leagueoflegends.com/pt/...</td>\n",
       "      <td>bKills</td>\n",
       "      <td>11</td>\n",
       "    </tr>\n",
       "    <tr>\n",
       "      <th>...</th>\n",
       "      <td>...</td>\n",
       "      <td>...</td>\n",
       "      <td>...</td>\n",
       "    </tr>\n",
       "    <tr>\n",
       "      <th>15235</th>\n",
       "      <td>https://matchhistory.na.leagueoflegends.com/en...</td>\n",
       "      <td>rKills</td>\n",
       "      <td>1</td>\n",
       "    </tr>\n",
       "    <tr>\n",
       "      <th>15236</th>\n",
       "      <td>https://matchhistory.na.leagueoflegends.com/en...</td>\n",
       "      <td>bKills</td>\n",
       "      <td>2</td>\n",
       "    </tr>\n",
       "    <tr>\n",
       "      <th>15237</th>\n",
       "      <td>https://matchhistory.na.leagueoflegends.com/en...</td>\n",
       "      <td>rKills</td>\n",
       "      <td>14</td>\n",
       "    </tr>\n",
       "    <tr>\n",
       "      <th>15238</th>\n",
       "      <td>https://matchhistory.na.leagueoflegends.com/en...</td>\n",
       "      <td>bKills</td>\n",
       "      <td>11</td>\n",
       "    </tr>\n",
       "    <tr>\n",
       "      <th>15239</th>\n",
       "      <td>https://matchhistory.na.leagueoflegends.com/en...</td>\n",
       "      <td>rKills</td>\n",
       "      <td>7</td>\n",
       "    </tr>\n",
       "  </tbody>\n",
       "</table>\n",
       "<p>15240 rows × 3 columns</p>\n",
       "</div>"
      ],
      "text/plain": [
       "                                                 Address    Team  Kills\n",
       "0      http://matchhistory.br.leagueoflegends.com/pt/...  bKills      6\n",
       "1      http://matchhistory.br.leagueoflegends.com/pt/...  rKills      1\n",
       "2      http://matchhistory.br.leagueoflegends.com/pt/...  bKills     22\n",
       "3      http://matchhistory.br.leagueoflegends.com/pt/...  rKills     19\n",
       "4      http://matchhistory.br.leagueoflegends.com/pt/...  bKills     11\n",
       "...                                                  ...     ...    ...\n",
       "15235  https://matchhistory.na.leagueoflegends.com/en...  rKills      1\n",
       "15236  https://matchhistory.na.leagueoflegends.com/en...  bKills      2\n",
       "15237  https://matchhistory.na.leagueoflegends.com/en...  rKills     14\n",
       "15238  https://matchhistory.na.leagueoflegends.com/en...  bKills     11\n",
       "15239  https://matchhistory.na.leagueoflegends.com/en...  rKills      7\n",
       "\n",
       "[15240 rows x 3 columns]"
      ]
     },
     "execution_count": 16,
     "metadata": {},
     "output_type": "execute_result"
    }
   ],
   "source": [
    "kills"
   ]
  },
  {
   "cell_type": "code",
   "execution_count": 17,
   "metadata": {},
   "outputs": [],
   "source": [
    "bKills = kills[kills['Team'] == 'bKills']\n",
    "rKills = kills[kills['Team'] == 'rKills']"
   ]
  },
  {
   "cell_type": "code",
   "execution_count": 18,
   "metadata": {},
   "outputs": [
    {
     "name": "stdout",
     "output_type": "stream",
     "text": [
      "0    [[10.82, 'C9 Hai', 'TSM Bjergsen', [], 9229, 8...\n",
      "Name: bKills, dtype: object\n"
     ]
    }
   ],
   "source": [
    "print(df.loc[(df['Address'] == 'http://matchhistory.na.leagueoflegends.com/en/#match-details/TRLH1/30030?gameHash=fbb300951ad8327c'), 'bKills'])"
   ]
  },
  {
   "cell_type": "code",
   "execution_count": 19,
   "metadata": {},
   "outputs": [],
   "source": [
    "for row in bKills.index:\n",
    "    addr = bKills.loc[row, 'Address']\n",
    "    df.loc[(df['Address'] == addr), 'bKills'] = bKills.loc[row, 'Kills']"
   ]
  },
  {
   "cell_type": "code",
   "execution_count": 20,
   "metadata": {},
   "outputs": [
    {
     "name": "stdout",
     "output_type": "stream",
     "text": [
      "                                                Address bKills\n",
      "0     http://matchhistory.na.leagueoflegends.com/en/...     16\n",
      "1     http://matchhistory.na.leagueoflegends.com/en/...     10\n",
      "2     http://matchhistory.na.leagueoflegends.com/en/...     22\n",
      "3     http://matchhistory.na.leagueoflegends.com/en/...     10\n",
      "4     http://matchhistory.na.leagueoflegends.com/en/...     22\n",
      "...                                                 ...    ...\n",
      "7615  https://matchhistory.euw.leagueoflegends.com/e...      7\n",
      "7616  https://matchhistory.euw.leagueoflegends.com/e...      8\n",
      "7617  https://matchhistory.na.leagueoflegends.com/en...      5\n",
      "7618  https://matchhistory.na.leagueoflegends.com/en...     16\n",
      "7619  https://matchhistory.na.leagueoflegends.com/en...     12\n",
      "\n",
      "[7456 rows x 2 columns]\n"
     ]
    }
   ],
   "source": [
    "print(df[['Address', 'bKills']])"
   ]
  },
  {
   "cell_type": "code",
   "execution_count": 21,
   "metadata": {},
   "outputs": [],
   "source": [
    "for row in rKills.index:\n",
    "    addr = rKills.loc[row, 'Address']\n",
    "    df.loc[(df['Address'] == addr), 'rKills'] = rKills.loc[row, 'Kills']"
   ]
  },
  {
   "cell_type": "code",
   "execution_count": 22,
   "metadata": {},
   "outputs": [
    {
     "name": "stdout",
     "output_type": "stream",
     "text": [
      "                                                Address bKills rKills\n",
      "0     http://matchhistory.na.leagueoflegends.com/en/...     16      9\n",
      "1     http://matchhistory.na.leagueoflegends.com/en/...     10      9\n",
      "2     http://matchhistory.na.leagueoflegends.com/en/...     22      8\n",
      "3     http://matchhistory.na.leagueoflegends.com/en/...     10     21\n",
      "4     http://matchhistory.na.leagueoflegends.com/en/...     22     10\n",
      "...                                                 ...    ...    ...\n",
      "7615  https://matchhistory.euw.leagueoflegends.com/e...      7     16\n",
      "7616  https://matchhistory.euw.leagueoflegends.com/e...      8     18\n",
      "7617  https://matchhistory.na.leagueoflegends.com/en...      5     13\n",
      "7618  https://matchhistory.na.leagueoflegends.com/en...     16      2\n",
      "7619  https://matchhistory.na.leagueoflegends.com/en...     12     23\n",
      "\n",
      "[7456 rows x 3 columns]\n"
     ]
    }
   ],
   "source": [
    "print(df[['Address', 'bKills', 'rKills']])"
   ]
  }
 ],
 "metadata": {
  "interpreter": {
   "hash": "cd2c9a4755191081f04923b934e9adf016dbf982a160ac466e519d69b6b5ec0a"
  },
  "kernelspec": {
   "display_name": "Python 3.9.12 64-bit (windows store)",
   "language": "python",
   "name": "python3"
  },
  "language_info": {
   "codemirror_mode": {
    "name": "ipython",
    "version": 3
   },
   "file_extension": ".py",
   "mimetype": "text/x-python",
   "name": "python",
   "nbconvert_exporter": "python",
   "pygments_lexer": "ipython3",
   "version": "3.9.12"
  },
  "orig_nbformat": 4
 },
 "nbformat": 4,
 "nbformat_minor": 2
}
